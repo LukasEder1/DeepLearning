{
  "nbformat": 4,
  "nbformat_minor": 0,
  "metadata": {
    "colab": {
      "provenance": [],
      "include_colab_link": true
    },
    "kernelspec": {
      "name": "python3",
      "display_name": "Python 3"
    },
    "accelerator": "GPU"
  },
  "cells": [
    {
      "cell_type": "markdown",
      "metadata": {
        "id": "view-in-github",
        "colab_type": "text"
      },
      "source": [
        "<a href=\"https://colab.research.google.com/github/LukasEder1/DeepLearning/blob/main/project/lyric_generator.ipynb\" target=\"_parent\"><img src=\"https://colab.research.google.com/assets/colab-badge.svg\" alt=\"Open In Colab\"/></a>"
      ]
    },
    {
      "cell_type": "markdown",
      "metadata": {
        "id": "EKOTlwcmxmej"
      },
      "source": [
        "# GPT-2 Fine-Tuning Tutorial with PyTorch & Huggingface in Colab\n",
        "\n",
        "\n"
      ]
    },
    {
      "cell_type": "code",
      "source": [
        "from google.colab import drive\n",
        "\n",
        "drive.mount('/content/gdrive/', force_remount=True)"
      ],
      "metadata": {
        "colab": {
          "base_uri": "https://localhost:8080/"
        },
        "id": "NB4LHe0ne9Pq",
        "outputId": "61a71a01-ab83-4408-957b-22b6381e694e"
      },
      "execution_count": 1,
      "outputs": [
        {
          "output_type": "stream",
          "name": "stdout",
          "text": [
            "Mounted at /content/gdrive/\n"
          ]
        }
      ]
    },
    {
      "cell_type": "code",
      "source": [
        "#https://www.kaggle.com/datasets/mervedin/genius-lyrics\n",
        "!unzip \"/content/gdrive/MyDrive/archive.zip\""
      ],
      "metadata": {
        "colab": {
          "base_uri": "https://localhost:8080/"
        },
        "id": "Afj5uyefe9db",
        "outputId": "691bb176-29f1-43b0-e8d9-858b6291035e"
      },
      "execution_count": 2,
      "outputs": [
        {
          "output_type": "stream",
          "name": "stdout",
          "text": [
            "Archive:  /content/gdrive/MyDrive/archive (1).zip\n",
            "  inflating: (Scriptonite).csv       \n",
            "  inflating: 2 Chainz.csv            \n",
            "  inflating: 2Pac.csv                \n",
            "  inflating: 50 Cent.csv             \n",
            "  inflating: A Boogie wit da Hoodie.csv  \n",
            "  inflating: AAP Rocky.csv           \n",
            "  inflating: Arctic Monkeys.csv      \n",
            "  inflating: Ariana Grande.csv       \n",
            "  inflating: BROCKHAMPTON.csv        \n",
            "  inflating: BTS.csv                 \n",
            "  inflating: Beyonc.csv              \n",
            "  inflating: Big Sean.csv            \n",
            "  inflating: Booba.csv               \n",
            "  inflating: Chance the Rapper.csv   \n",
            "  inflating: Chief Keef.csv          \n",
            "  inflating: Childish Gambino.csv    \n",
            "  inflating: Chris Brown.csv         \n",
            "  inflating: DJ Khaled.csv           \n",
            "  inflating: Damso.csv               \n",
            "  inflating: Drake.csv               \n",
            "  inflating: Ed Sheeran.csv          \n",
            "  inflating: Eminem.csv              \n",
            "  inflating: Fetty Wap.csv           \n",
            "  inflating: Frank Ocean.csv         \n",
            "  inflating: Future.csv              \n",
            "  inflating: G-Eazy.csv              \n",
            "  inflating: Genius English Translations.csv  \n",
            "  inflating: Genius Romanizations.csv  \n",
            "  inflating: Gucci Mane.csv          \n",
            "  inflating: Imagine Dragons.csv     \n",
            "  inflating: J. Cole.csv             \n",
            "  inflating: JAY-Z.csv               \n",
            "  inflating: Jhen Aiko.csv           \n",
            "  inflating: JuL.csv                 \n",
            "  inflating: Juice WRLD.csv          \n",
            "  inflating: Justin Bieber.csv       \n",
            "  inflating: Kanye West.csv          \n",
            "  inflating: Kendrick Lamar.csv      \n",
            "  inflating: Kevin Gates.csv         \n",
            "  inflating: Kid Cudi.csv            \n",
            "  inflating: Kodak Black.csv         \n",
            "  inflating: Lady Gaga.csv           \n",
            "  inflating: Lana Del Rey.csv        \n",
            "  inflating: Lil Durk.csv            \n",
            "  inflating: Lil Peep.csv            \n",
            "  inflating: Lil Uzi Vert.csv        \n",
            "  inflating: Lil Wayne.csv           \n",
            "  inflating: Logic.csv               \n",
            "  inflating: Mac Miller.csv          \n",
            "  inflating: Machine Gun Kelly.csv   \n",
            "  inflating: Meek Mill.csv           \n",
            "  inflating: Migos.csv               \n",
            "  inflating: NF.csv                  \n",
            "  inflating: Nas.csv                 \n",
            "  inflating: Nekfeu.csv              \n",
            "  inflating: Nicki Minaj.csv         \n",
            "  inflating: Oxxxymiron.csv          \n",
            "  inflating: PARTYNEXTDOOR.csv       \n",
            "  inflating: Playboi Carti.csv       \n",
            "  inflating: Queen.csv               \n",
            "  inflating: Radiohead.csv           \n",
            "  inflating: Rick Ross.csv           \n",
            "  inflating: Rihanna.csv             \n",
            "  inflating: Russ.csv                \n",
            "  inflating: ScHoolboy Q.csv         \n",
            "  inflating: Taylor Swift.csv        \n",
            "  inflating: The 1975.csv            \n",
            "  inflating: The Beatles.csv         \n",
            "  inflating: The Game.csv            \n",
            "  inflating: The Notorious B.I.G..csv  \n",
            "  inflating: The Weeknd.csv          \n",
            "  inflating: Tory Lanez.csv          \n",
            "  inflating: Travis Scott.csv        \n",
            "  inflating: Trippie Redd.csv        \n",
            "  inflating: Tyga.csv                \n",
            "  inflating: Tyler The Creator.csv   \n",
            "  inflating: UICIDEBOY.csv           \n",
            "  inflating: Wale.csv                \n",
            "  inflating: Wiz Khalifa.csv         \n",
            "  inflating: XXXTENTACION.csv        \n",
            "  inflating: Young Thug.csv          \n"
          ]
        }
      ]
    },
    {
      "cell_type": "code",
      "source": [
        "import pandas as pd\n",
        "songs = pd.read_csv(\"/content/The Beatles.csv\")\n",
        "songs2 = pd.read_csv(\"/content/2Pac.csv\")"
      ],
      "metadata": {
        "id": "GHdtJNGHe9hK"
      },
      "execution_count": 88,
      "outputs": []
    },
    {
      "cell_type": "code",
      "source": [
        "songs = songs.append(songs2)"
      ],
      "metadata": {
        "id": "V9N-4TUogbwp"
      },
      "execution_count": 91,
      "outputs": []
    },
    {
      "cell_type": "code",
      "source": [],
      "metadata": {
        "colab": {
          "base_uri": "https://localhost:8080/",
          "height": 728
        },
        "id": "n8SiFIRArIVS",
        "outputId": "49300fbb-6f00-4b21-9cb3-f8e055ffdc32"
      },
      "execution_count": 93,
      "outputs": [
        {
          "output_type": "execute_result",
          "data": {
            "text/plain": [
              "         artist      id  lyrics_owner_id  primary_artist_id  \\\n",
              "0   The Beatles    1575                7                586   \n",
              "1   The Beatles    2236                7                586   \n",
              "2   The Beatles   56218            29141                586   \n",
              "3   The Beatles   82381          4619460                586   \n",
              "4   The Beatles   87577           133789                586   \n",
              "..          ...     ...              ...                ...   \n",
              "95         2Pac    2177             2383                 59   \n",
              "96         2Pac    6530               50                 59   \n",
              "97         2Pac    6587               50                 59   \n",
              "98         2Pac  127919             8534                 59   \n",
              "99         2Pac   54876            24688                 59   \n",
              "\n",
              "   primary_artist_name                       song_art_image_thumbnail_url  \\\n",
              "0          The Beatles  https://images.genius.com/38df3b59f231f4babd59...   \n",
              "1          The Beatles  https://images.genius.com/a2cc11cd0780d0542e4e...   \n",
              "2          The Beatles  https://images.genius.com/04df901371547072bab6...   \n",
              "3          The Beatles  https://images.genius.com/537342a11e2455300f30...   \n",
              "4          The Beatles  https://images.genius.com/003c2b3d4b489659367e...   \n",
              "..                 ...                                                ...   \n",
              "95                2Pac  https://images.genius.com/4f924e981b74c6d754d2...   \n",
              "96                2Pac  https://images.genius.com/839619da9eb2d92ecf53...   \n",
              "97                2Pac  https://images.genius.com/45d6f7f5bdb846d9e4e8...   \n",
              "98                2Pac  https://images.genius.com/06dee150ef8c1c103f89...   \n",
              "99                2Pac  https://images.rapgenius.com/090e90f3607f235e1...   \n",
              "\n",
              "                               title  \\\n",
              "0                          Let It Be   \n",
              "1                          Yesterday   \n",
              "2                      Come Together   \n",
              "3                           Hey Jude   \n",
              "4                 Here Comes the Sun   \n",
              "..                               ...   \n",
              "95                   16 on Death Row   \n",
              "96                           Violent   \n",
              "97                      When We Ride   \n",
              "98  In the Event of My Demise (Poem)   \n",
              "99         Runnin’ (From Tha Police)   \n",
              "\n",
              "                                                  url  pageviews  \\\n",
              "0     https://genius.com/The-beatles-let-it-be-lyrics    1464634   \n",
              "1     https://genius.com/The-beatles-yesterday-lyrics    1320595   \n",
              "2   https://genius.com/The-beatles-come-together-l...    1082725   \n",
              "3      https://genius.com/The-beatles-hey-jude-lyrics    1061468   \n",
              "4   https://genius.com/The-beatles-here-comes-the-...     994581   \n",
              "..                                                ...        ...   \n",
              "95     https://genius.com/2pac-16-on-death-row-lyrics      79702   \n",
              "96             https://genius.com/2pac-violent-lyrics      78382   \n",
              "97        https://genius.com/2pac-when-we-ride-lyrics      77892   \n",
              "98  https://genius.com/2pac-in-the-event-of-my-dem...      75100   \n",
              "99  https://genius.com/2pac-runnin-from-tha-police...      74926   \n",
              "\n",
              "                                               lyrics  \n",
              "0   Let It Be Lyrics[Verse 1]\\nWhen I find myself ...  \n",
              "1   Yesterday Lyrics[Verse 1]\\nYesterday\\nAll my t...  \n",
              "2   Come Together Lyrics[Intro]\\nShoot me\\nShoot m...  \n",
              "3   Hey Jude Lyrics[Verse 1: Paul McCartney]\\nHey ...  \n",
              "4   Here Comes the Sun Lyrics[Chorus]\\nHere comes ...  \n",
              "..                                                ...  \n",
              "95  16 on Death Row Lyrics[Intro]\\nDeath Row\\nThat...  \n",
              "96  Violent Lyrics[Verse 1]\\nThey claim that I'm v...  \n",
              "97  When We Ride Lyrics[Intro: 2Pac]\\nOutlaw Immor...  \n",
              "98  In the Event of My Demise (Poem) LyricsIn the ...  \n",
              "99  Runnin’ (From Tha Police) Lyrics[Intro: Stretc...  \n",
              "\n",
              "[200 rows x 10 columns]"
            ],
            "text/html": [
              "\n",
              "  <div id=\"df-811aa7be-eba4-4f2e-87a1-7a7f34d5e0e5\">\n",
              "    <div class=\"colab-df-container\">\n",
              "      <div>\n",
              "<style scoped>\n",
              "    .dataframe tbody tr th:only-of-type {\n",
              "        vertical-align: middle;\n",
              "    }\n",
              "\n",
              "    .dataframe tbody tr th {\n",
              "        vertical-align: top;\n",
              "    }\n",
              "\n",
              "    .dataframe thead th {\n",
              "        text-align: right;\n",
              "    }\n",
              "</style>\n",
              "<table border=\"1\" class=\"dataframe\">\n",
              "  <thead>\n",
              "    <tr style=\"text-align: right;\">\n",
              "      <th></th>\n",
              "      <th>artist</th>\n",
              "      <th>id</th>\n",
              "      <th>lyrics_owner_id</th>\n",
              "      <th>primary_artist_id</th>\n",
              "      <th>primary_artist_name</th>\n",
              "      <th>song_art_image_thumbnail_url</th>\n",
              "      <th>title</th>\n",
              "      <th>url</th>\n",
              "      <th>pageviews</th>\n",
              "      <th>lyrics</th>\n",
              "    </tr>\n",
              "  </thead>\n",
              "  <tbody>\n",
              "    <tr>\n",
              "      <th>0</th>\n",
              "      <td>The Beatles</td>\n",
              "      <td>1575</td>\n",
              "      <td>7</td>\n",
              "      <td>586</td>\n",
              "      <td>The Beatles</td>\n",
              "      <td>https://images.genius.com/38df3b59f231f4babd59...</td>\n",
              "      <td>Let It Be</td>\n",
              "      <td>https://genius.com/The-beatles-let-it-be-lyrics</td>\n",
              "      <td>1464634</td>\n",
              "      <td>Let It Be Lyrics[Verse 1]\\nWhen I find myself ...</td>\n",
              "    </tr>\n",
              "    <tr>\n",
              "      <th>1</th>\n",
              "      <td>The Beatles</td>\n",
              "      <td>2236</td>\n",
              "      <td>7</td>\n",
              "      <td>586</td>\n",
              "      <td>The Beatles</td>\n",
              "      <td>https://images.genius.com/a2cc11cd0780d0542e4e...</td>\n",
              "      <td>Yesterday</td>\n",
              "      <td>https://genius.com/The-beatles-yesterday-lyrics</td>\n",
              "      <td>1320595</td>\n",
              "      <td>Yesterday Lyrics[Verse 1]\\nYesterday\\nAll my t...</td>\n",
              "    </tr>\n",
              "    <tr>\n",
              "      <th>2</th>\n",
              "      <td>The Beatles</td>\n",
              "      <td>56218</td>\n",
              "      <td>29141</td>\n",
              "      <td>586</td>\n",
              "      <td>The Beatles</td>\n",
              "      <td>https://images.genius.com/04df901371547072bab6...</td>\n",
              "      <td>Come Together</td>\n",
              "      <td>https://genius.com/The-beatles-come-together-l...</td>\n",
              "      <td>1082725</td>\n",
              "      <td>Come Together Lyrics[Intro]\\nShoot me\\nShoot m...</td>\n",
              "    </tr>\n",
              "    <tr>\n",
              "      <th>3</th>\n",
              "      <td>The Beatles</td>\n",
              "      <td>82381</td>\n",
              "      <td>4619460</td>\n",
              "      <td>586</td>\n",
              "      <td>The Beatles</td>\n",
              "      <td>https://images.genius.com/537342a11e2455300f30...</td>\n",
              "      <td>Hey Jude</td>\n",
              "      <td>https://genius.com/The-beatles-hey-jude-lyrics</td>\n",
              "      <td>1061468</td>\n",
              "      <td>Hey Jude Lyrics[Verse 1: Paul McCartney]\\nHey ...</td>\n",
              "    </tr>\n",
              "    <tr>\n",
              "      <th>4</th>\n",
              "      <td>The Beatles</td>\n",
              "      <td>87577</td>\n",
              "      <td>133789</td>\n",
              "      <td>586</td>\n",
              "      <td>The Beatles</td>\n",
              "      <td>https://images.genius.com/003c2b3d4b489659367e...</td>\n",
              "      <td>Here Comes the Sun</td>\n",
              "      <td>https://genius.com/The-beatles-here-comes-the-...</td>\n",
              "      <td>994581</td>\n",
              "      <td>Here Comes the Sun Lyrics[Chorus]\\nHere comes ...</td>\n",
              "    </tr>\n",
              "    <tr>\n",
              "      <th>...</th>\n",
              "      <td>...</td>\n",
              "      <td>...</td>\n",
              "      <td>...</td>\n",
              "      <td>...</td>\n",
              "      <td>...</td>\n",
              "      <td>...</td>\n",
              "      <td>...</td>\n",
              "      <td>...</td>\n",
              "      <td>...</td>\n",
              "      <td>...</td>\n",
              "    </tr>\n",
              "    <tr>\n",
              "      <th>95</th>\n",
              "      <td>2Pac</td>\n",
              "      <td>2177</td>\n",
              "      <td>2383</td>\n",
              "      <td>59</td>\n",
              "      <td>2Pac</td>\n",
              "      <td>https://images.genius.com/4f924e981b74c6d754d2...</td>\n",
              "      <td>16 on Death Row</td>\n",
              "      <td>https://genius.com/2pac-16-on-death-row-lyrics</td>\n",
              "      <td>79702</td>\n",
              "      <td>16 on Death Row Lyrics[Intro]\\nDeath Row\\nThat...</td>\n",
              "    </tr>\n",
              "    <tr>\n",
              "      <th>96</th>\n",
              "      <td>2Pac</td>\n",
              "      <td>6530</td>\n",
              "      <td>50</td>\n",
              "      <td>59</td>\n",
              "      <td>2Pac</td>\n",
              "      <td>https://images.genius.com/839619da9eb2d92ecf53...</td>\n",
              "      <td>Violent</td>\n",
              "      <td>https://genius.com/2pac-violent-lyrics</td>\n",
              "      <td>78382</td>\n",
              "      <td>Violent Lyrics[Verse 1]\\nThey claim that I'm v...</td>\n",
              "    </tr>\n",
              "    <tr>\n",
              "      <th>97</th>\n",
              "      <td>2Pac</td>\n",
              "      <td>6587</td>\n",
              "      <td>50</td>\n",
              "      <td>59</td>\n",
              "      <td>2Pac</td>\n",
              "      <td>https://images.genius.com/45d6f7f5bdb846d9e4e8...</td>\n",
              "      <td>When We Ride</td>\n",
              "      <td>https://genius.com/2pac-when-we-ride-lyrics</td>\n",
              "      <td>77892</td>\n",
              "      <td>When We Ride Lyrics[Intro: 2Pac]\\nOutlaw Immor...</td>\n",
              "    </tr>\n",
              "    <tr>\n",
              "      <th>98</th>\n",
              "      <td>2Pac</td>\n",
              "      <td>127919</td>\n",
              "      <td>8534</td>\n",
              "      <td>59</td>\n",
              "      <td>2Pac</td>\n",
              "      <td>https://images.genius.com/06dee150ef8c1c103f89...</td>\n",
              "      <td>In the Event of My Demise (Poem)</td>\n",
              "      <td>https://genius.com/2pac-in-the-event-of-my-dem...</td>\n",
              "      <td>75100</td>\n",
              "      <td>In the Event of My Demise (Poem) LyricsIn the ...</td>\n",
              "    </tr>\n",
              "    <tr>\n",
              "      <th>99</th>\n",
              "      <td>2Pac</td>\n",
              "      <td>54876</td>\n",
              "      <td>24688</td>\n",
              "      <td>59</td>\n",
              "      <td>2Pac</td>\n",
              "      <td>https://images.rapgenius.com/090e90f3607f235e1...</td>\n",
              "      <td>Runnin’ (From Tha Police)</td>\n",
              "      <td>https://genius.com/2pac-runnin-from-tha-police...</td>\n",
              "      <td>74926</td>\n",
              "      <td>Runnin’ (From Tha Police) Lyrics[Intro: Stretc...</td>\n",
              "    </tr>\n",
              "  </tbody>\n",
              "</table>\n",
              "<p>200 rows × 10 columns</p>\n",
              "</div>\n",
              "      <button class=\"colab-df-convert\" onclick=\"convertToInteractive('df-811aa7be-eba4-4f2e-87a1-7a7f34d5e0e5')\"\n",
              "              title=\"Convert this dataframe to an interactive table.\"\n",
              "              style=\"display:none;\">\n",
              "        \n",
              "  <svg xmlns=\"http://www.w3.org/2000/svg\" height=\"24px\"viewBox=\"0 0 24 24\"\n",
              "       width=\"24px\">\n",
              "    <path d=\"M0 0h24v24H0V0z\" fill=\"none\"/>\n",
              "    <path d=\"M18.56 5.44l.94 2.06.94-2.06 2.06-.94-2.06-.94-.94-2.06-.94 2.06-2.06.94zm-11 1L8.5 8.5l.94-2.06 2.06-.94-2.06-.94L8.5 2.5l-.94 2.06-2.06.94zm10 10l.94 2.06.94-2.06 2.06-.94-2.06-.94-.94-2.06-.94 2.06-2.06.94z\"/><path d=\"M17.41 7.96l-1.37-1.37c-.4-.4-.92-.59-1.43-.59-.52 0-1.04.2-1.43.59L10.3 9.45l-7.72 7.72c-.78.78-.78 2.05 0 2.83L4 21.41c.39.39.9.59 1.41.59.51 0 1.02-.2 1.41-.59l7.78-7.78 2.81-2.81c.8-.78.8-2.07 0-2.86zM5.41 20L4 18.59l7.72-7.72 1.47 1.35L5.41 20z\"/>\n",
              "  </svg>\n",
              "      </button>\n",
              "      \n",
              "  <style>\n",
              "    .colab-df-container {\n",
              "      display:flex;\n",
              "      flex-wrap:wrap;\n",
              "      gap: 12px;\n",
              "    }\n",
              "\n",
              "    .colab-df-convert {\n",
              "      background-color: #E8F0FE;\n",
              "      border: none;\n",
              "      border-radius: 50%;\n",
              "      cursor: pointer;\n",
              "      display: none;\n",
              "      fill: #1967D2;\n",
              "      height: 32px;\n",
              "      padding: 0 0 0 0;\n",
              "      width: 32px;\n",
              "    }\n",
              "\n",
              "    .colab-df-convert:hover {\n",
              "      background-color: #E2EBFA;\n",
              "      box-shadow: 0px 1px 2px rgba(60, 64, 67, 0.3), 0px 1px 3px 1px rgba(60, 64, 67, 0.15);\n",
              "      fill: #174EA6;\n",
              "    }\n",
              "\n",
              "    [theme=dark] .colab-df-convert {\n",
              "      background-color: #3B4455;\n",
              "      fill: #D2E3FC;\n",
              "    }\n",
              "\n",
              "    [theme=dark] .colab-df-convert:hover {\n",
              "      background-color: #434B5C;\n",
              "      box-shadow: 0px 1px 3px 1px rgba(0, 0, 0, 0.15);\n",
              "      filter: drop-shadow(0px 1px 2px rgba(0, 0, 0, 0.3));\n",
              "      fill: #FFFFFF;\n",
              "    }\n",
              "  </style>\n",
              "\n",
              "      <script>\n",
              "        const buttonEl =\n",
              "          document.querySelector('#df-811aa7be-eba4-4f2e-87a1-7a7f34d5e0e5 button.colab-df-convert');\n",
              "        buttonEl.style.display =\n",
              "          google.colab.kernel.accessAllowed ? 'block' : 'none';\n",
              "\n",
              "        async function convertToInteractive(key) {\n",
              "          const element = document.querySelector('#df-811aa7be-eba4-4f2e-87a1-7a7f34d5e0e5');\n",
              "          const dataTable =\n",
              "            await google.colab.kernel.invokeFunction('convertToInteractive',\n",
              "                                                     [key], {});\n",
              "          if (!dataTable) return;\n",
              "\n",
              "          const docLinkHtml = 'Like what you see? Visit the ' +\n",
              "            '<a target=\"_blank\" href=https://colab.research.google.com/notebooks/data_table.ipynb>data table notebook</a>'\n",
              "            + ' to learn more about interactive tables.';\n",
              "          element.innerHTML = '';\n",
              "          dataTable['output_type'] = 'display_data';\n",
              "          await google.colab.output.renderOutput(dataTable, element);\n",
              "          const docLink = document.createElement('div');\n",
              "          docLink.innerHTML = docLinkHtml;\n",
              "          element.appendChild(docLink);\n",
              "        }\n",
              "      </script>\n",
              "    </div>\n",
              "  </div>\n",
              "  "
            ]
          },
          "metadata": {},
          "execution_count": 93
        }
      ]
    },
    {
      "cell_type": "markdown",
      "metadata": {
        "id": "Xf3Qw77SZGbS"
      },
      "source": [
        "# Setup"
      ]
    },
    {
      "cell_type": "code",
      "metadata": {
        "id": "0NmMdkZO8R6q",
        "colab": {
          "base_uri": "https://localhost:8080/"
        },
        "outputId": "c771b9a0-9db7-4acf-eda9-09e1aab48d8e"
      },
      "source": [
        "!pip install transformers"
      ],
      "execution_count": 56,
      "outputs": [
        {
          "output_type": "stream",
          "name": "stdout",
          "text": [
            "Looking in indexes: https://pypi.org/simple, https://us-python.pkg.dev/colab-wheels/public/simple/\n",
            "Requirement already satisfied: transformers in /usr/local/lib/python3.8/dist-packages (4.26.0)\n",
            "Requirement already satisfied: tokenizers!=0.11.3,<0.14,>=0.11.1 in /usr/local/lib/python3.8/dist-packages (from transformers) (0.13.2)\n",
            "Requirement already satisfied: regex!=2019.12.17 in /usr/local/lib/python3.8/dist-packages (from transformers) (2022.6.2)\n",
            "Requirement already satisfied: tqdm>=4.27 in /usr/local/lib/python3.8/dist-packages (from transformers) (4.64.1)\n",
            "Requirement already satisfied: filelock in /usr/local/lib/python3.8/dist-packages (from transformers) (3.9.0)\n",
            "Requirement already satisfied: huggingface-hub<1.0,>=0.11.0 in /usr/local/lib/python3.8/dist-packages (from transformers) (0.12.0)\n",
            "Requirement already satisfied: numpy>=1.17 in /usr/local/lib/python3.8/dist-packages (from transformers) (1.21.6)\n",
            "Requirement already satisfied: pyyaml>=5.1 in /usr/local/lib/python3.8/dist-packages (from transformers) (6.0)\n",
            "Requirement already satisfied: packaging>=20.0 in /usr/local/lib/python3.8/dist-packages (from transformers) (23.0)\n",
            "Requirement already satisfied: requests in /usr/local/lib/python3.8/dist-packages (from transformers) (2.25.1)\n",
            "Requirement already satisfied: typing-extensions>=3.7.4.3 in /usr/local/lib/python3.8/dist-packages (from huggingface-hub<1.0,>=0.11.0->transformers) (4.4.0)\n",
            "Requirement already satisfied: chardet<5,>=3.0.2 in /usr/local/lib/python3.8/dist-packages (from requests->transformers) (4.0.0)\n",
            "Requirement already satisfied: idna<3,>=2.5 in /usr/local/lib/python3.8/dist-packages (from requests->transformers) (2.10)\n",
            "Requirement already satisfied: certifi>=2017.4.17 in /usr/local/lib/python3.8/dist-packages (from requests->transformers) (2022.12.7)\n",
            "Requirement already satisfied: urllib3<1.27,>=1.21.1 in /usr/local/lib/python3.8/dist-packages (from requests->transformers) (1.24.3)\n"
          ]
        }
      ]
    },
    {
      "cell_type": "code",
      "metadata": {
        "id": "JCCeyhuDHdOu",
        "colab": {
          "base_uri": "https://localhost:8080/"
        },
        "outputId": "ed35e942-4fc4-4c72-ee31-5a48d81d2e76"
      },
      "source": [
        "import os\n",
        "import time\n",
        "import datetime\n",
        "from google.colab import drive\n",
        "\n",
        "import pandas as pd\n",
        "import seaborn as sns\n",
        "import numpy as np\n",
        "import random\n",
        "\n",
        "import matplotlib.pyplot as plt\n",
        "%matplotlib inline\n",
        "\n",
        "import torch\n",
        "from torch.utils.data import Dataset, DataLoader, random_split, RandomSampler, SequentialSampler\n",
        "torch.manual_seed(42)\n",
        "\n",
        "from transformers import GPT2LMHeadModel,  GPT2Tokenizer, GPT2Config, GPT2LMHeadModel\n",
        "from transformers import AdamW, get_linear_schedule_with_warmup\n",
        "\n",
        "import nltk\n",
        "nltk.download('punkt')"
      ],
      "execution_count": 57,
      "outputs": [
        {
          "output_type": "stream",
          "name": "stderr",
          "text": [
            "[nltk_data] Downloading package punkt to /root/nltk_data...\n",
            "[nltk_data]   Package punkt is already up-to-date!\n"
          ]
        },
        {
          "output_type": "execute_result",
          "data": {
            "text/plain": [
              "True"
            ]
          },
          "metadata": {},
          "execution_count": 57
        }
      ]
    },
    {
      "cell_type": "code",
      "metadata": {
        "id": "satxtOn9CzgR",
        "colab": {
          "base_uri": "https://localhost:8080/"
        },
        "outputId": "6521c1ff-9818-4c0b-b7c4-724ab0155a44"
      },
      "source": [
        "!nvidia-smi"
      ],
      "execution_count": 58,
      "outputs": [
        {
          "output_type": "stream",
          "name": "stdout",
          "text": [
            "Tue Feb  7 16:11:33 2023       \n",
            "+-----------------------------------------------------------------------------+\n",
            "| NVIDIA-SMI 510.47.03    Driver Version: 510.47.03    CUDA Version: 11.6     |\n",
            "|-------------------------------+----------------------+----------------------+\n",
            "| GPU  Name        Persistence-M| Bus-Id        Disp.A | Volatile Uncorr. ECC |\n",
            "| Fan  Temp  Perf  Pwr:Usage/Cap|         Memory-Usage | GPU-Util  Compute M. |\n",
            "|                               |                      |               MIG M. |\n",
            "|===============================+======================+======================|\n",
            "|   0  Tesla T4            Off  | 00000000:00:04.0 Off |                    0 |\n",
            "| N/A   52C    P0    26W /  70W |   8772MiB / 15360MiB |      0%      Default |\n",
            "|                               |                      |                  N/A |\n",
            "+-------------------------------+----------------------+----------------------+\n",
            "                                                                               \n",
            "+-----------------------------------------------------------------------------+\n",
            "| Processes:                                                                  |\n",
            "|  GPU   GI   CI        PID   Type   Process name                  GPU Memory |\n",
            "|        ID   ID                                                   Usage      |\n",
            "|=============================================================================|\n",
            "|    0   N/A  N/A     23013      C                                    8769MiB |\n",
            "+-----------------------------------------------------------------------------+\n"
          ]
        }
      ]
    },
    {
      "cell_type": "markdown",
      "metadata": {
        "id": "ZfdCML6Parvv"
      },
      "source": [
        "# Create Training Set\n",
        "\n",
        "The data used to finetune the language model is a set of around 1000 DJ biographies, with the aim of generating them in the same general format and style.\n",
        "\n",
        "This data isn't public so if you want to use this script, you'll have to source your own training set."
      ]
    },
    {
      "cell_type": "code",
      "metadata": {
        "id": "_U3m6wr3Ahzt",
        "colab": {
          "base_uri": "https://localhost:8080/"
        },
        "outputId": "a4254f7c-4788-4a40-f2e0-17b7e1d4fadb"
      },
      "source": [
        "songs.dropna(inplace=True) #remove NA values\n",
        "lyrics = songs.lyrics.copy() #just use the main bio text in this example\n",
        "lyrics"
      ],
      "execution_count": 59,
      "outputs": [
        {
          "output_type": "execute_result",
          "data": {
            "text/plain": [
              "0     Let It Be Lyrics[Verse 1]\\nWhen I find myself ...\n",
              "1     Yesterday Lyrics[Verse 1]\\nYesterday\\nAll my t...\n",
              "2     Come Together Lyrics[Intro]\\nShoot me\\nShoot m...\n",
              "3     Hey Jude Lyrics[Verse 1: Paul McCartney]\\nHey ...\n",
              "4     Here Comes the Sun Lyrics[Chorus]\\nHere comes ...\n",
              "                            ...                        \n",
              "95    She Said She Said Lyrics[Verse 1]\\nShe said, \"...\n",
              "96    The Continuing Story of Bungalow Bill Lyrics[C...\n",
              "97    Her Majesty Lyrics[Verse]\\nHer Majesty's a pre...\n",
              "98    I’ve Got a Feeling Lyrics[Verse 1: Paul McCart...\n",
              "99    Run for Your Life Lyrics[Verse 1: John Lennon]...\n",
              "Name: lyrics, Length: 100, dtype: object"
            ]
          },
          "metadata": {},
          "execution_count": 59
        }
      ]
    },
    {
      "cell_type": "markdown",
      "metadata": {
        "id": "hQ1oK0kXaV5p"
      },
      "source": [
        "We need to get an idea of how long our training documents are.\n",
        "\n",
        "I'm not going to use the same tokenizer as the GPT2 one, which is a [byte pair encoding tokenizer](https://blog.floydhub.com/tokenization-nlp/). Instead, I'm using a simple one just to get a rough understanding."
      ]
    },
    {
      "cell_type": "code",
      "metadata": {
        "id": "cKsH2sU0OCQA",
        "colab": {
          "base_uri": "https://localhost:8080/",
          "height": 348
        },
        "outputId": "fe2a9efd-69ef-4068-e065-6a08fd5ac61d"
      },
      "source": [
        "doc_lengths = []\n",
        "\n",
        "for bio in lyrics:\n",
        "\n",
        "    # get rough token count distribution\n",
        "    tokens = nltk.word_tokenize(bio)\n",
        "\n",
        "    doc_lengths.append(len(tokens))\n",
        "\n",
        "doc_lengths = np.array(doc_lengths)\n",
        "\n",
        "sns.distplot(doc_lengths)"
      ],
      "execution_count": 60,
      "outputs": [
        {
          "output_type": "stream",
          "name": "stderr",
          "text": [
            "/usr/local/lib/python3.8/dist-packages/seaborn/distributions.py:2619: FutureWarning: `distplot` is a deprecated function and will be removed in a future version. Please adapt your code to use either `displot` (a figure-level function with similar flexibility) or `histplot` (an axes-level function for histograms).\n",
            "  warnings.warn(msg, FutureWarning)\n"
          ]
        },
        {
          "output_type": "execute_result",
          "data": {
            "text/plain": [
              "<matplotlib.axes._subplots.AxesSubplot at 0x7fa31b04c7c0>"
            ]
          },
          "metadata": {},
          "execution_count": 60
        },
        {
          "output_type": "display_data",
          "data": {
            "text/plain": [
              "<Figure size 432x288 with 1 Axes>"
            ],
            "image/png": "[encoded data removed]"
          },
          "metadata": {
            "needs_background": "light"
          }
        }
      ]
    },
    {
      "cell_type": "code",
      "metadata": {
        "id": "u6P6bTItJEIj",
        "colab": {
          "base_uri": "https://localhost:8080/"
        },
        "outputId": "2dd31cae-29a5-4b5d-89f6-014623ce8ec7"
      },
      "source": [
        "# the max token length   \n",
        "len(doc_lengths[doc_lengths > 768])/len(doc_lengths)"
      ],
      "execution_count": 61,
      "outputs": [
        {
          "output_type": "execute_result",
          "data": {
            "text/plain": [
              "0.01"
            ]
          },
          "metadata": {},
          "execution_count": 61
        }
      ]
    },
    {
      "cell_type": "code",
      "metadata": {
        "id": "63t_69HjlwAj",
        "colab": {
          "base_uri": "https://localhost:8080/"
        },
        "outputId": "5f754d7a-6afa-44ad-958d-3fe5189210a9"
      },
      "source": [
        "np.average(doc_lengths)"
      ],
      "execution_count": 62,
      "outputs": [
        {
          "output_type": "execute_result",
          "data": {
            "text/plain": [
              "276.97"
            ]
          },
          "metadata": {},
          "execution_count": 62
        }
      ]
    },
    {
      "cell_type": "markdown",
      "metadata": {
        "id": "Tuq5bqdr4_a6"
      },
      "source": [
        "Even though these token counts won't match up to the BPE tokenizer's, I'm confident that most bios will be fit under the 768 embedding size limit for the small GPT2 model."
      ]
    },
    {
      "cell_type": "markdown",
      "metadata": {
        "id": "cMml12FJGjPW"
      },
      "source": [
        "# GPT2 Tokenizer"
      ]
    },
    {
      "cell_type": "markdown",
      "metadata": {
        "id": "ANJhbBwdxN-b"
      },
      "source": [
        "Although the defaults take care of this,I thought I'd show that you can specify some of the special tokens. "
      ]
    },
    {
      "cell_type": "code",
      "metadata": {
        "id": "Z474sSC6oe7A",
        "colab": {
          "base_uri": "https://localhost:8080/"
        },
        "outputId": "9fc4c37f-7495-47b5-f07c-5daa2dfa3f65"
      },
      "source": [
        "# Load the GPT tokenizer.\n",
        "tokenizer = GPT2Tokenizer.from_pretrained('gpt2', bos_token='<|startoftext|>', eos_token='<|endoftext|>', pad_token='<|pad|>') #gpt2-medium\n"
      ],
      "execution_count": 63,
      "outputs": [
        {
          "output_type": "stream",
          "name": "stderr",
          "text": [
            "Special tokens have been added in the vocabulary, make sure the associated word embeddings are fine-tuned or trained.\n"
          ]
        }
      ]
    },
    {
      "cell_type": "code",
      "metadata": {
        "id": "sh0XKuDvnryn",
        "colab": {
          "base_uri": "https://localhost:8080/"
        },
        "outputId": "8601e425-e728-4416-f705-1de74349d782"
      },
      "source": [
        "print(\"The max model length is {} for this model, although the actual embedding size for GPT small is 768\".format(tokenizer.model_max_length))\n",
        "print(\"The beginning of sequence token {} token has the id {}\".format(tokenizer.convert_ids_to_tokens(tokenizer.bos_token_id), tokenizer.bos_token_id))\n",
        "print(\"The end of sequence token {} has the id {}\".format(tokenizer.convert_ids_to_tokens(tokenizer.eos_token_id), tokenizer.eos_token_id))\n",
        "print(\"The padding token {} has the id {}\".format(tokenizer.convert_ids_to_tokens(tokenizer.pad_token_id), tokenizer.pad_token_id))"
      ],
      "execution_count": 64,
      "outputs": [
        {
          "output_type": "stream",
          "name": "stdout",
          "text": [
            "The max model length is 1024 for this model, although the actual embedding size for GPT small is 768\n",
            "The beginning of sequence token <|startoftext|> token has the id 50257\n",
            "The end of sequence token <|endoftext|> has the id 50256\n",
            "The padding token <|pad|> has the id 50258\n"
          ]
        }
      ]
    },
    {
      "cell_type": "markdown",
      "metadata": {
        "id": "ex5O1eV-Pfct"
      },
      "source": [
        "# PyTorch Datasets & Dataloaders\n"
      ]
    },
    {
      "cell_type": "markdown",
      "metadata": {
        "id": "3lgZoOYkxZfx"
      },
      "source": [
        "GPT2 is a large model. Increasing the batch size above 2 has lead to out of memory problems. This can be mitigated by accumulating the gradients but that is out of scope here."
      ]
    },
    {
      "cell_type": "code",
      "metadata": {
        "id": "scqrzmqhV__z"
      },
      "source": [
        "batch_size = 2"
      ],
      "execution_count": 65,
      "outputs": []
    },
    {
      "cell_type": "markdown",
      "metadata": {
        "id": "lqGMee7Isfpx"
      },
      "source": [
        "I'm using the standard PyTorch approach of loading data in using a [dataset class](https://pytorch.org/tutorials/beginner/data_loading_tutorial.html).\n",
        "\n",
        "I'm passing in the tokenizer as an argument but normally I would  instantiate it within the class."
      ]
    },
    {
      "cell_type": "code",
      "metadata": {
        "id": "U_XJVIetKN-h"
      },
      "source": [
        "class GPT2Dataset(Dataset):\n",
        "\n",
        "  def __init__(self, txt_list, tokenizer, gpt2_type=\"gpt2\", max_length=768):\n",
        "\n",
        "    self.tokenizer = tokenizer\n",
        "    self.input_ids = []\n",
        "    self.attn_masks = []\n",
        "\n",
        "    for txt in txt_list:\n",
        "\n",
        "      encodings_dict = tokenizer('<|startoftext|>'+ txt + '<|endoftext|>', truncation=True, max_length=max_length, padding=\"max_length\")\n",
        "\n",
        "      self.input_ids.append(torch.tensor(encodings_dict['input_ids']))\n",
        "      self.attn_masks.append(torch.tensor(encodings_dict['attention_mask']))\n",
        "    \n",
        "  def __len__(self):\n",
        "    return len(self.input_ids)\n",
        "\n",
        "  def __getitem__(self, idx):\n",
        "    return self.input_ids[idx], self.attn_masks[idx] "
      ],
      "execution_count": 66,
      "outputs": []
    },
    {
      "cell_type": "markdown",
      "metadata": {
        "id": "89Z7aYUgpWrd"
      },
      "source": [
        "To understand how I've used the tokenizer, it's worth reading [the docs](https://huggingface.co/transformers/main_classes/tokenizer.html). I've wrapped each bio in the bos and eos tokens.\n",
        "\n",
        "Every tensor passed to the model should be the same length.\n",
        "\n",
        "If the bio is shorter than 768 tokens, it will be padded to a length of 768 using the padding token. In addition, an attention mask will be returned that needs to be passed to the model to tell it to ignore the padding tokens. \n",
        "\n",
        "If the bio is longer than 768 tokens, it will be truncated without the eos_token. This isn't a problem."
      ]
    },
    {
      "cell_type": "code",
      "metadata": {
        "id": "Xza_O1_rD7yh",
        "colab": {
          "base_uri": "https://localhost:8080/"
        },
        "outputId": "aea0ab67-78fc-4db1-d8d4-322ac44ba9cf"
      },
      "source": [
        "dataset = GPT2Dataset(lyrics, tokenizer, max_length=768)\n",
        "\n",
        "# Split into training and validation sets\n",
        "train_size = int(0.9 * len(dataset))\n",
        "val_size = len(dataset) - train_size\n",
        "\n",
        "train_dataset, val_dataset = random_split(dataset, [train_size, val_size])\n",
        "\n",
        "print('{:>5,} training samples'.format(train_size))\n",
        "print('{:>5,} validation samples'.format(val_size))"
      ],
      "execution_count": 67,
      "outputs": [
        {
          "output_type": "stream",
          "name": "stdout",
          "text": [
            "   90 training samples\n",
            "   10 validation samples\n"
          ]
        }
      ]
    },
    {
      "cell_type": "code",
      "metadata": {
        "id": "x0WeP5PREUuy"
      },
      "source": [
        "# Create the DataLoaders for our training and validation datasets.\n",
        "# We'll take training samples in random order. \n",
        "train_dataloader = DataLoader(\n",
        "            train_dataset,  # The training samples.\n",
        "            sampler = RandomSampler(train_dataset), # Select batches randomly\n",
        "            batch_size = batch_size # Trains with this batch size.\n",
        "        )\n",
        "\n",
        "# For validation the order doesn't matter, so we'll just read them sequentially.\n",
        "validation_dataloader = DataLoader(\n",
        "            val_dataset, # The validation samples.\n",
        "            sampler = SequentialSampler(val_dataset), # Pull out batches sequentially.\n",
        "            batch_size = batch_size # Evaluate with this batch size.\n",
        "        )"
      ],
      "execution_count": 68,
      "outputs": []
    },
    {
      "cell_type": "markdown",
      "metadata": {
        "id": "D6TKgyUzPIQc"
      },
      "source": [
        "# Finetune GPT2 Language Model"
      ]
    },
    {
      "cell_type": "code",
      "metadata": {
        "id": "gFsCTp_mporB"
      },
      "source": [
        "# I'm not really doing anything with the config buheret\n",
        "configuration = GPT2Config.from_pretrained('gpt2', output_hidden_states=False)\n",
        "\n",
        "# instantiate the model\n",
        "model = GPT2LMHeadModel.from_pretrained(\"gpt2\", config=configuration)\n",
        "\n",
        "# this step is necessary because I've added some tokens (bos_token, etc) to the embeddings\n",
        "# otherwise the tokenizer and model tensors won't match up\n",
        "model.resize_token_embeddings(len(tokenizer))\n",
        "\n",
        "# Tell pytorch to run this model on the GPU.\n",
        "device = torch.device(\"cuda\")\n",
        "model.cuda()\n",
        "\n",
        "# Set the seed value all over the place to make this reproducible.\n",
        "seed_val = 42\n",
        "\n",
        "random.seed(seed_val)\n",
        "np.random.seed(seed_val)\n",
        "torch.manual_seed(seed_val)\n",
        "torch.cuda.manual_seed_all(seed_val)"
      ],
      "execution_count": 69,
      "outputs": []
    },
    {
      "cell_type": "code",
      "metadata": {
        "id": "pBEVY2PYSTXJ"
      },
      "source": [
        "# some parameters I cooked up that work reasonably well\n",
        "\n",
        "epochs = 5\n",
        "learning_rate = 5e-4\n",
        "warmup_steps = 1e2\n",
        "epsilon = 1e-8\n",
        "\n",
        "# this produces sample output every 100 steps\n",
        "sample_every = 100"
      ],
      "execution_count": 70,
      "outputs": []
    },
    {
      "cell_type": "code",
      "metadata": {
        "id": "GLs72DuMODJO",
        "colab": {
          "base_uri": "https://localhost:8080/"
        },
        "outputId": "a7be30f5-95ca-4885-efc5-eaffc7b770ee"
      },
      "source": [
        "# Note: AdamW is a class from the huggingface library (as opposed to pytorch) \n",
        "optimizer = AdamW(model.parameters(),\n",
        "                  lr = learning_rate,\n",
        "                  eps = epsilon\n",
        "                )"
      ],
      "execution_count": 71,
      "outputs": [
        {
          "output_type": "stream",
          "name": "stderr",
          "text": [
            "/usr/local/lib/python3.8/dist-packages/transformers/optimization.py:306: FutureWarning: This implementation of AdamW is deprecated and will be removed in a future version. Use the PyTorch implementation torch.optim.AdamW instead, or set `no_deprecation_warning=True` to disable this warning\n",
            "  warnings.warn(\n"
          ]
        }
      ]
    },
    {
      "cell_type": "code",
      "metadata": {
        "id": "-p0upAhhRiIx"
      },
      "source": [
        "# Total number of training steps is [number of batches] x [number of epochs]. \n",
        "# (Note that this is not the same as the number of training samples).\n",
        "total_steps = len(train_dataloader) * epochs\n",
        "\n",
        "# Create the learning rate scheduler.\n",
        "# This changes the learning rate as the training loop progresses\n",
        "scheduler = get_linear_schedule_with_warmup(optimizer, \n",
        "                                            num_warmup_steps = warmup_steps, \n",
        "                                            num_training_steps = total_steps)"
      ],
      "execution_count": 72,
      "outputs": []
    },
    {
      "cell_type": "code",
      "metadata": {
        "id": "gpt6tR83keZD"
      },
      "source": [
        "def format_time(elapsed):\n",
        "    return str(datetime.timedelta(seconds=int(round((elapsed)))))"
      ],
      "execution_count": 73,
      "outputs": []
    },
    {
      "cell_type": "code",
      "metadata": {
        "id": "vCPohrZ-CTWu",
        "colab": {
          "base_uri": "https://localhost:8080/"
        },
        "outputId": "d8f9decc-2647-4810-8927-cad32f40ebeb"
      },
      "source": [
        "total_t0 = time.time()\n",
        "\n",
        "training_stats = []\n",
        "\n",
        "model = model.to(device)\n",
        "\n",
        "for epoch_i in range(0, epochs):\n",
        "\n",
        "    # ========================================\n",
        "    #               Training\n",
        "    # ========================================\n",
        "\n",
        "    print(\"\")\n",
        "    print('======== Epoch {:} / {:} ========'.format(epoch_i + 1, epochs))\n",
        "    print('Training...')\n",
        "\n",
        "    t0 = time.time()\n",
        "\n",
        "    total_train_loss = 0\n",
        "\n",
        "    model.train()\n",
        "\n",
        "    for step, batch in enumerate(train_dataloader):\n",
        "\n",
        "        b_input_ids = batch[0].to(device)\n",
        "        b_labels = batch[0].to(device)\n",
        "        b_masks = batch[1].to(device)\n",
        "\n",
        "        model.zero_grad()        \n",
        "\n",
        "        outputs = model(  b_input_ids,\n",
        "                          labels=b_labels, \n",
        "                          attention_mask = b_masks,\n",
        "                          token_type_ids=None\n",
        "                        )\n",
        "\n",
        "        loss = outputs[0]  \n",
        "\n",
        "        batch_loss = loss.item()\n",
        "        total_train_loss += batch_loss\n",
        "\n",
        "        # Get sample every x batches.\n",
        "        if step % sample_every == 0 and not step == 0:\n",
        "\n",
        "            elapsed = format_time(time.time() - t0)\n",
        "            print('  Batch {:>5,}  of  {:>5,}. Loss: {:>5,}.   Elapsed: {:}.'.format(step, len(train_dataloader), batch_loss, elapsed))\n",
        "\n",
        "            model.eval()\n",
        "\n",
        "            sample_outputs = model.generate(\n",
        "                                    bos_token_id=random.randint(1,30000),\n",
        "                                    do_sample=True,   \n",
        "                                    top_k=50, \n",
        "                                    max_length = 200,\n",
        "                                    top_p=0.95, \n",
        "                                    num_return_sequences=1\n",
        "                                )\n",
        "            for i, sample_output in enumerate(sample_outputs):\n",
        "                  print(\"{}: {}\".format(i, tokenizer.decode(sample_output, skip_special_tokens=True)))\n",
        "            \n",
        "            model.train()\n",
        "\n",
        "        loss.backward()\n",
        "\n",
        "        optimizer.step()\n",
        "\n",
        "        scheduler.step()\n",
        "\n",
        "    # Calculate the average loss over all of the batches.\n",
        "    avg_train_loss = total_train_loss / len(train_dataloader)       \n",
        "    \n",
        "    # Measure how long this epoch took.\n",
        "    training_time = format_time(time.time() - t0)\n",
        "\n",
        "    print(\"\")\n",
        "    print(\"  Average training loss: {0:.2f}\".format(avg_train_loss))\n",
        "    print(\"  Training epoch took: {:}\".format(training_time))\n",
        "        \n",
        "    # ========================================\n",
        "    #               Validation\n",
        "    # ========================================\n",
        "\n",
        "    print(\"\")\n",
        "    print(\"Running Validation...\")\n",
        "\n",
        "    t0 = time.time()\n",
        "\n",
        "    model.eval()\n",
        "\n",
        "    total_eval_loss = 0\n",
        "    nb_eval_steps = 0\n",
        "\n",
        "    # Evaluate data for one epoch\n",
        "    for batch in validation_dataloader:\n",
        "        \n",
        "        b_input_ids = batch[0].to(device)\n",
        "        b_labels = batch[0].to(device)\n",
        "        b_masks = batch[1].to(device)\n",
        "        \n",
        "        with torch.no_grad():        \n",
        "\n",
        "            outputs  = model(b_input_ids, \n",
        "#                            token_type_ids=None, \n",
        "                             attention_mask = b_masks,\n",
        "                            labels=b_labels)\n",
        "          \n",
        "            loss = outputs[0]  \n",
        "            \n",
        "        batch_loss = loss.item()\n",
        "        total_eval_loss += batch_loss        \n",
        "\n",
        "    avg_val_loss = total_eval_loss / len(validation_dataloader)\n",
        "    \n",
        "    validation_time = format_time(time.time() - t0)    \n",
        "\n",
        "    print(\"  Validation Loss: {0:.2f}\".format(avg_val_loss))\n",
        "    print(\"  Validation took: {:}\".format(validation_time))\n",
        "\n",
        "    # Record all statistics from this epoch.\n",
        "    training_stats.append(\n",
        "        {\n",
        "            'epoch': epoch_i + 1,\n",
        "            'Training Loss': avg_train_loss,\n",
        "            'Valid. Loss': avg_val_loss,\n",
        "            'Training Time': training_time,\n",
        "            'Validation Time': validation_time\n",
        "        }\n",
        "    )\n",
        "\n",
        "print(\"\")\n",
        "print(\"Training complete!\")\n",
        "print(\"Total training took {:} (h:mm:ss)\".format(format_time(time.time()-total_t0)))"
      ],
      "execution_count": 74,
      "outputs": [
        {
          "output_type": "stream",
          "name": "stdout",
          "text": [
            "\n",
            "======== Epoch 1 / 5 ========\n",
            "Training...\n",
            "\n",
            "  Average training loss: 7.12\n",
            "  Training epoch took: 0:00:21\n",
            "\n",
            "Running Validation...\n",
            "  Validation Loss: 1.00\n",
            "  Validation took: 0:00:01\n",
            "\n",
            "======== Epoch 2 / 5 ========\n",
            "Training...\n",
            "\n",
            "  Average training loss: 1.14\n",
            "  Training epoch took: 0:00:21\n",
            "\n",
            "Running Validation...\n",
            "  Validation Loss: 0.83\n",
            "  Validation took: 0:00:01\n",
            "\n",
            "======== Epoch 3 / 5 ========\n",
            "Training...\n",
            "\n",
            "  Average training loss: 0.92\n",
            "  Training epoch took: 0:00:22\n",
            "\n",
            "Running Validation...\n",
            "  Validation Loss: 0.79\n",
            "  Validation took: 0:00:01\n",
            "\n",
            "======== Epoch 4 / 5 ========\n",
            "Training...\n",
            "\n",
            "  Average training loss: 0.83\n",
            "  Training epoch took: 0:00:22\n",
            "\n",
            "Running Validation...\n",
            "  Validation Loss: 0.79\n",
            "  Validation took: 0:00:01\n",
            "\n",
            "======== Epoch 5 / 5 ========\n",
            "Training...\n",
            "\n",
            "  Average training loss: 0.78\n",
            "  Training epoch took: 0:00:23\n",
            "\n",
            "Running Validation...\n",
            "  Validation Loss: 0.79\n",
            "  Validation took: 0:00:01\n",
            "\n",
            "Training complete!\n",
            "Total training took 0:01:53 (h:mm:ss)\n"
          ]
        }
      ]
    },
    {
      "cell_type": "markdown",
      "metadata": {
        "id": "VQTvJ1vRP7u4"
      },
      "source": [
        "Let's view the summary of the training process."
      ]
    },
    {
      "cell_type": "code",
      "metadata": {
        "id": "6O_NbXFGMukX",
        "colab": {
          "base_uri": "https://localhost:8080/",
          "height": 238
        },
        "outputId": "d08693bf-f05e-44c9-e2d1-72d642093e09"
      },
      "source": [
        "# Display floats with two decimal places.\n",
        "pd.set_option('precision', 2)\n",
        "\n",
        "# Create a DataFrame from our training statistics.\n",
        "df_stats = pd.DataFrame(data=training_stats)\n",
        "\n",
        "# Use the 'epoch' as the row index.\n",
        "df_stats = df_stats.set_index('epoch')\n",
        "\n",
        "# A hack to force the column headers to wrap.\n",
        "#df = df.style.set_table_styles([dict(selector=\"th\",props=[('max-width', '70px')])])\n",
        "\n",
        "# Display the table.\n",
        "df_stats"
      ],
      "execution_count": 75,
      "outputs": [
        {
          "output_type": "execute_result",
          "data": {
            "text/plain": [
              "       Training Loss  Valid. Loss Training Time Validation Time\n",
              "epoch                                                          \n",
              "1               7.12         1.00       0:00:21         0:00:01\n",
              "2               1.14         0.83       0:00:21         0:00:01\n",
              "3               0.92         0.79       0:00:22         0:00:01\n",
              "4               0.83         0.79       0:00:22         0:00:01\n",
              "5               0.78         0.79       0:00:23         0:00:01"
            ],
            "text/html": [
              "\n",
              "  <div id=\"df-6e22cf55-8a34-4f97-866b-bcdca9351740\">\n",
              "    <div class=\"colab-df-container\">\n",
              "      <div>\n",
              "<style scoped>\n",
              "    .dataframe tbody tr th:only-of-type {\n",
              "        vertical-align: middle;\n",
              "    }\n",
              "\n",
              "    .dataframe tbody tr th {\n",
              "        vertical-align: top;\n",
              "    }\n",
              "\n",
              "    .dataframe thead th {\n",
              "        text-align: right;\n",
              "    }\n",
              "</style>\n",
              "<table border=\"1\" class=\"dataframe\">\n",
              "  <thead>\n",
              "    <tr style=\"text-align: right;\">\n",
              "      <th></th>\n",
              "      <th>Training Loss</th>\n",
              "      <th>Valid. Loss</th>\n",
              "      <th>Training Time</th>\n",
              "      <th>Validation Time</th>\n",
              "    </tr>\n",
              "    <tr>\n",
              "      <th>epoch</th>\n",
              "      <th></th>\n",
              "      <th></th>\n",
              "      <th></th>\n",
              "      <th></th>\n",
              "    </tr>\n",
              "  </thead>\n",
              "  <tbody>\n",
              "    <tr>\n",
              "      <th>1</th>\n",
              "      <td>7.12</td>\n",
              "      <td>1.00</td>\n",
              "      <td>0:00:21</td>\n",
              "      <td>0:00:01</td>\n",
              "    </tr>\n",
              "    <tr>\n",
              "      <th>2</th>\n",
              "      <td>1.14</td>\n",
              "      <td>0.83</td>\n",
              "      <td>0:00:21</td>\n",
              "      <td>0:00:01</td>\n",
              "    </tr>\n",
              "    <tr>\n",
              "      <th>3</th>\n",
              "      <td>0.92</td>\n",
              "      <td>0.79</td>\n",
              "      <td>0:00:22</td>\n",
              "      <td>0:00:01</td>\n",
              "    </tr>\n",
              "    <tr>\n",
              "      <th>4</th>\n",
              "      <td>0.83</td>\n",
              "      <td>0.79</td>\n",
              "      <td>0:00:22</td>\n",
              "      <td>0:00:01</td>\n",
              "    </tr>\n",
              "    <tr>\n",
              "      <th>5</th>\n",
              "      <td>0.78</td>\n",
              "      <td>0.79</td>\n",
              "      <td>0:00:23</td>\n",
              "      <td>0:00:01</td>\n",
              "    </tr>\n",
              "  </tbody>\n",
              "</table>\n",
              "</div>\n",
              "      <button class=\"colab-df-convert\" onclick=\"convertToInteractive('df-6e22cf55-8a34-4f97-866b-bcdca9351740')\"\n",
              "              title=\"Convert this dataframe to an interactive table.\"\n",
              "              style=\"display:none;\">\n",
              "        \n",
              "  <svg xmlns=\"http://www.w3.org/2000/svg\" height=\"24px\"viewBox=\"0 0 24 24\"\n",
              "       width=\"24px\">\n",
              "    <path d=\"M0 0h24v24H0V0z\" fill=\"none\"/>\n",
              "    <path d=\"M18.56 5.44l.94 2.06.94-2.06 2.06-.94-2.06-.94-.94-2.06-.94 2.06-2.06.94zm-11 1L8.5 8.5l.94-2.06 2.06-.94-2.06-.94L8.5 2.5l-.94 2.06-2.06.94zm10 10l.94 2.06.94-2.06 2.06-.94-2.06-.94-.94-2.06-.94 2.06-2.06.94z\"/><path d=\"M17.41 7.96l-1.37-1.37c-.4-.4-.92-.59-1.43-.59-.52 0-1.04.2-1.43.59L10.3 9.45l-7.72 7.72c-.78.78-.78 2.05 0 2.83L4 21.41c.39.39.9.59 1.41.59.51 0 1.02-.2 1.41-.59l7.78-7.78 2.81-2.81c.8-.78.8-2.07 0-2.86zM5.41 20L4 18.59l7.72-7.72 1.47 1.35L5.41 20z\"/>\n",
              "  </svg>\n",
              "      </button>\n",
              "      \n",
              "  <style>\n",
              "    .colab-df-container {\n",
              "      display:flex;\n",
              "      flex-wrap:wrap;\n",
              "      gap: 12px;\n",
              "    }\n",
              "\n",
              "    .colab-df-convert {\n",
              "      background-color: #E8F0FE;\n",
              "      border: none;\n",
              "      border-radius: 50%;\n",
              "      cursor: pointer;\n",
              "      display: none;\n",
              "      fill: #1967D2;\n",
              "      height: 32px;\n",
              "      padding: 0 0 0 0;\n",
              "      width: 32px;\n",
              "    }\n",
              "\n",
              "    .colab-df-convert:hover {\n",
              "      background-color: #E2EBFA;\n",
              "      box-shadow: 0px 1px 2px rgba(60, 64, 67, 0.3), 0px 1px 3px 1px rgba(60, 64, 67, 0.15);\n",
              "      fill: #174EA6;\n",
              "    }\n",
              "\n",
              "    [theme=dark] .colab-df-convert {\n",
              "      background-color: #3B4455;\n",
              "      fill: #D2E3FC;\n",
              "    }\n",
              "\n",
              "    [theme=dark] .colab-df-convert:hover {\n",
              "      background-color: #434B5C;\n",
              "      box-shadow: 0px 1px 3px 1px rgba(0, 0, 0, 0.15);\n",
              "      filter: drop-shadow(0px 1px 2px rgba(0, 0, 0, 0.3));\n",
              "      fill: #FFFFFF;\n",
              "    }\n",
              "  </style>\n",
              "\n",
              "      <script>\n",
              "        const buttonEl =\n",
              "          document.querySelector('#df-6e22cf55-8a34-4f97-866b-bcdca9351740 button.colab-df-convert');\n",
              "        buttonEl.style.display =\n",
              "          google.colab.kernel.accessAllowed ? 'block' : 'none';\n",
              "\n",
              "        async function convertToInteractive(key) {\n",
              "          const element = document.querySelector('#df-6e22cf55-8a34-4f97-866b-bcdca9351740');\n",
              "          const dataTable =\n",
              "            await google.colab.kernel.invokeFunction('convertToInteractive',\n",
              "                                                     [key], {});\n",
              "          if (!dataTable) return;\n",
              "\n",
              "          const docLinkHtml = 'Like what you see? Visit the ' +\n",
              "            '<a target=\"_blank\" href=https://colab.research.google.com/notebooks/data_table.ipynb>data table notebook</a>'\n",
              "            + ' to learn more about interactive tables.';\n",
              "          element.innerHTML = '';\n",
              "          dataTable['output_type'] = 'display_data';\n",
              "          await google.colab.output.renderOutput(dataTable, element);\n",
              "          const docLink = document.createElement('div');\n",
              "          docLink.innerHTML = docLinkHtml;\n",
              "          element.appendChild(docLink);\n",
              "        }\n",
              "      </script>\n",
              "    </div>\n",
              "  </div>\n",
              "  "
            ]
          },
          "metadata": {},
          "execution_count": 75
        }
      ]
    },
    {
      "cell_type": "code",
      "metadata": {
        "id": "68xreA9JAmG5",
        "colab": {
          "base_uri": "https://localhost:8080/",
          "height": 427
        },
        "outputId": "23ccaaba-f13f-46b9-ed60-978b0293c8b1"
      },
      "source": [
        "# Use plot styling from seaborn.\n",
        "sns.set(style='darkgrid')\n",
        "\n",
        "# Increase the plot size and font size.\n",
        "sns.set(font_scale=1.5)\n",
        "plt.rcParams[\"figure.figsize\"] = (12,6)\n",
        "\n",
        "# Plot the learning curve.\n",
        "plt.plot(df_stats['Training Loss'], 'b-o', label=\"Training\")\n",
        "plt.plot(df_stats['Valid. Loss'], 'g-o', label=\"Validation\")\n",
        "\n",
        "# Label the plot.\n",
        "plt.title(\"Training & Validation Loss\")\n",
        "plt.xlabel(\"Epoch\")\n",
        "plt.ylabel(\"Loss\")\n",
        "plt.legend()\n",
        "plt.xticks([1, 2, 3, 4])\n",
        "\n",
        "plt.show()"
      ],
      "execution_count": 76,
      "outputs": [
        {
          "output_type": "display_data",
          "data": {
            "text/plain": [
              "<Figure size 864x432 with 1 Axes>"
            ],
            "image/png": "[encoded data removed]"
          },
          "metadata": {}
        }
      ]
    },
    {
      "cell_type": "markdown",
      "metadata": {
        "id": "GfjYoa6WmkN6"
      },
      "source": [
        "# Display Model Info"
      ]
    },
    {
      "cell_type": "code",
      "metadata": {
        "id": "8PIiVlDYCtSq",
        "colab": {
          "base_uri": "https://localhost:8080/"
        },
        "outputId": "f740e8c7-06c9-42ac-8180-b647a37ee6cc"
      },
      "source": [
        "# Get all of the model's parameters as a list of tuples.\n",
        "params = list(model.named_parameters())\n",
        "\n",
        "print('The GPT-2 model has {:} different named parameters.\\n'.format(len(params)))\n",
        "\n",
        "print('==== Embedding Layer ====\\n')\n",
        "\n",
        "for p in params[0:2]:\n",
        "    print(\"{:<55} {:>12}\".format(p[0], str(tuple(p[1].size()))))\n",
        "\n",
        "print('\\n==== First Transformer ====\\n')\n",
        "\n",
        "for p in params[2:14]:\n",
        "    print(\"{:<55} {:>12}\".format(p[0], str(tuple(p[1].size()))))\n",
        "\n",
        "print('\\n==== Output Layer ====\\n')\n",
        "\n",
        "for p in params[-2:]:\n",
        "    print(\"{:<55} {:>12}\".format(p[0], str(tuple(p[1].size()))))"
      ],
      "execution_count": 77,
      "outputs": [
        {
          "output_type": "stream",
          "name": "stdout",
          "text": [
            "The GPT-2 model has 148 different named parameters.\n",
            "\n",
            "==== Embedding Layer ====\n",
            "\n",
            "transformer.wte.weight                                  (50259, 768)\n",
            "transformer.wpe.weight                                   (1024, 768)\n",
            "\n",
            "==== First Transformer ====\n",
            "\n",
            "transformer.h.0.ln_1.weight                                   (768,)\n",
            "transformer.h.0.ln_1.bias                                     (768,)\n",
            "transformer.h.0.attn.c_attn.weight                       (768, 2304)\n",
            "transformer.h.0.attn.c_attn.bias                             (2304,)\n",
            "transformer.h.0.attn.c_proj.weight                        (768, 768)\n",
            "transformer.h.0.attn.c_proj.bias                              (768,)\n",
            "transformer.h.0.ln_2.weight                                   (768,)\n",
            "transformer.h.0.ln_2.bias                                     (768,)\n",
            "transformer.h.0.mlp.c_fc.weight                          (768, 3072)\n",
            "transformer.h.0.mlp.c_fc.bias                                (3072,)\n",
            "transformer.h.0.mlp.c_proj.weight                        (3072, 768)\n",
            "transformer.h.0.mlp.c_proj.bias                               (768,)\n",
            "\n",
            "==== Output Layer ====\n",
            "\n",
            "transformer.ln_f.weight                                       (768,)\n",
            "transformer.ln_f.bias                                         (768,)\n"
          ]
        }
      ]
    },
    {
      "cell_type": "markdown",
      "metadata": {
        "id": "q2079Qyn8Mt8"
      },
      "source": [
        "# Saving & Loading Fine-Tuned Model\n"
      ]
    },
    {
      "cell_type": "code",
      "metadata": {
        "id": "6ulTWaOr8QNY",
        "colab": {
          "base_uri": "https://localhost:8080/"
        },
        "outputId": "005dd2ea-4221-4f54-8437-4033b9d74f4c"
      },
      "source": [
        "# Saving best-practices: if you use defaults names for the model, you can reload it using from_pretrained()\n",
        "\n",
        "output_dir = './model_save/'\n",
        "\n",
        "# Create output directory if needed\n",
        "if not os.path.exists(output_dir):\n",
        "    os.makedirs(output_dir)\n",
        "\n",
        "print(\"Saving model to %s\" % output_dir)\n",
        "\n",
        "# Save a trained model, configuration and tokenizer using `save_pretrained()`.\n",
        "# They can then be reloaded using `from_pretrained()`\n",
        "model_to_save = model.module if hasattr(model, 'module') else model  # Take care of distributed/parallel training\n",
        "model_to_save.save_pretrained(output_dir)\n",
        "tokenizer.save_pretrained(output_dir)\n",
        "\n",
        "# Good practice: save your training arguments together with the trained model\n",
        "# torch.save(args, os.path.join(output_dir, 'training_args.bin'))\n"
      ],
      "execution_count": 78,
      "outputs": [
        {
          "output_type": "stream",
          "name": "stdout",
          "text": [
            "Saving model to ./model_save/\n"
          ]
        },
        {
          "output_type": "execute_result",
          "data": {
            "text/plain": [
              "('./model_save/tokenizer_config.json',\n",
              " './model_save/special_tokens_map.json',\n",
              " './model_save/vocab.json',\n",
              " './model_save/merges.txt',\n",
              " './model_save/added_tokens.json')"
            ]
          },
          "metadata": {},
          "execution_count": 78
        }
      ]
    },
    {
      "cell_type": "code",
      "metadata": {
        "id": "mqMzI3VTCZo5",
        "colab": {
          "base_uri": "https://localhost:8080/"
        },
        "outputId": "ed7064ed-9e67-4439-8dcc-e83fa0eddb2a"
      },
      "source": [
        "!ls -l --block-size=K ./model_save/"
      ],
      "execution_count": 79,
      "outputs": [
        {
          "output_type": "stream",
          "name": "stdout",
          "text": [
            "total 499888K\n",
            "-rw-r--r-- 1 root root      1K Feb  7 16:13 added_tokens.json\n",
            "-rw-r--r-- 1 root root      1K Feb  7 16:13 config.json\n",
            "-rw-r--r-- 1 root root      1K Feb  7 16:13 generation_config.json\n",
            "-rw-r--r-- 1 root root    446K Feb  7 16:13 merges.txt\n",
            "-rw-r--r-- 1 root root 498442K Feb  7 16:13 pytorch_model.bin\n",
            "-rw-r--r-- 1 root root      1K Feb  7 16:13 special_tokens_map.json\n",
            "-rw-r--r-- 1 root root      1K Feb  7 16:13 tokenizer_config.json\n",
            "-rw-r--r-- 1 root root    976K Feb  7 16:13 vocab.json\n"
          ]
        }
      ]
    },
    {
      "cell_type": "code",
      "metadata": {
        "id": "-WUFUIQ8Cu8D",
        "colab": {
          "base_uri": "https://localhost:8080/"
        },
        "outputId": "4979d1f9-41b0-4223-abe0-ed8eeab1b6e2"
      },
      "source": [
        "!ls -l --block-size=M ./model_save/pytorch_model.bin"
      ],
      "execution_count": 80,
      "outputs": [
        {
          "output_type": "stream",
          "name": "stdout",
          "text": [
            "-rw-r--r-- 1 root root 487M Feb  7 16:13 ./model_save/pytorch_model.bin\n"
          ]
        }
      ]
    },
    {
      "cell_type": "code",
      "metadata": {
        "id": "NxlZsafTC-V5",
        "colab": {
          "base_uri": "https://localhost:8080/"
        },
        "outputId": "6fa0fb5a-f641-45c6-f8d4-fc08f77e7946"
      },
      "source": [
        "# Copy the model files to a directory in your Google Drive.\n",
        "!cp -r ./model_save/ $data_dir\n",
        "\n",
        "# # Load a trained model and vocabulary that you have fine-tuned\n",
        "#model = GPT2LMHeadModel.from_pretrained(output_dir)\n",
        "#tokenizer = GPT2Tokenizer.from_pretrained(output_dir)\n",
        "#model.to(device)"
      ],
      "execution_count": 81,
      "outputs": [
        {
          "output_type": "stream",
          "name": "stdout",
          "text": [
            "cp: missing destination file operand after './model_save/'\n",
            "Try 'cp --help' for more information.\n"
          ]
        }
      ]
    },
    {
      "cell_type": "markdown",
      "metadata": {
        "id": "ZLf6rbRglYhQ"
      },
      "source": [
        "# Generate Text"
      ]
    },
    {
      "cell_type": "code",
      "metadata": {
        "id": "v4XhewaV93-_",
        "colab": {
          "base_uri": "https://localhost:8080/"
        },
        "outputId": "e739b6b3-3420-42a1-b61a-eb39189f45e9"
      },
      "source": [
        "model.eval()\n",
        "\n",
        "prompt = \"<|startoftext|>\"\n",
        "\n",
        "generated = torch.tensor(tokenizer.encode(prompt)).unsqueeze(0)\n",
        "generated = generated.to(device)\n",
        "\n",
        "print(generated)\n",
        "\n",
        "sample_outputs = model.generate(\n",
        "                                generated, \n",
        "                                #bos_token_id=random.randint(1,30000),\n",
        "                                do_sample=True,   \n",
        "                                top_k=50, \n",
        "                                max_length = 300,\n",
        "                                top_p=0.95, \n",
        "                                num_return_sequences=3\n",
        "                                )\n",
        "\n",
        "for i, sample_output in enumerate(sample_outputs):\n",
        "  print(\"{}: {}\\n\\n\".format(i, tokenizer.decode(sample_output, skip_special_tokens=True)))"
      ],
      "execution_count": 86,
      "outputs": [
        {
          "output_type": "stream",
          "name": "stderr",
          "text": [
            "The attention mask and the pad token id were not set. As a consequence, you may observe unexpected behavior. Please pass your input's `attention_mask` to obtain reliable results.\n",
            "Setting `pad_token_id` to `eos_token_id`:50256 for open-end generation.\n"
          ]
        },
        {
          "output_type": "stream",
          "name": "stdout",
          "text": [
            "tensor([[50257]], device='cuda:0')\n",
            "0: The land that I've known and loved has always been ours\"\n",
            "\n",
            "– John Lennon\n",
            "[Verse 1]\n",
            "I should go out into the world and rob it of my wife\n",
            "And then she would cry\n",
            "And when I went out of the world she would cry in the face of the people\n",
            "And when I got down to town I'd get up and sing an old song\n",
            "That I thought made all the world laugh\n",
            "[Chorus]\n",
            "[Verse 2]\n",
            "My life seems so long ago\n",
            "I know that I would cry in the face of the people\n",
            "And then she would cry\n",
            "And when I got down to town\n",
            " I'd get up and sing an old song\n",
            "That I thought made all the world laugh\n",
            "[Chorus]\n",
            "\n",
            "[Verse 3]\n",
            "My life seems so long ago\n",
            "I know that I would cry in the face of the people\n",
            "And then she would cry\n",
            "And when I got down to town\n",
            " I'd get up and sing an old song\n",
            "That I thought made all the world laugh\n",
            "\n",
            "[Chorus]\n",
            "[Verse 4]\n",
            "My life seems so long ago\n",
            "I know that I would cry in the face of the people\n",
            "And then she would cry\n",
            "And when I got down to town\n",
            " I'd get up and sing an old song\n",
            "That I thought made all the world laugh\n",
            "[Chorus]\n",
            "\n",
            "[Outro]\n",
            "[Verse 5]\n",
            "\n",
            "\n",
            "1: It's all my own\n",
            "\n",
            "[Chorus]\n",
            "Ain't nobody heard\n",
            "Ah, hate the world\n",
            "That's what's wrong with us today\n",
            "Ah, love the world\n",
            "\n",
            "So let me go\n",
            "[Verse 1]\n",
            "The singer's sad, I hate the world\n",
            "\n",
            "[Chorus]\n",
            "Ah, love the world\n",
            "Oh, hate the world\n",
            "So let me go\n",
            "[Refrain]\n",
            "You know how long it took you to make this song\n",
            "[Verse 2]\n",
            "In the beginning, I tried to reach the moon\n",
            "So nobody knew that I had sailed\n",
            "\n",
            "Ah, hate the world\n",
            "That's what's wrong with us today\n",
            "Ah, love the world\n",
            "So let me go\n",
            "[Refrain]\n",
            "You know how long it took you to make this song\n",
            "[Chorus]\n",
            "Ah, love the world\n",
            "Oh, hate the world\n",
            "So let me go\n",
            "[Refrain]\n",
            "\n",
            "You know how long it took you to make this song\n",
            "\n",
            "[Chorus]\n",
            "Ah, love the world\n",
            "Oh, hate the world\n",
            "So let me go\n",
            "[Refrain]\n",
            "\n",
            "You know how long it took you to make this song\n",
            "[Chorus]\n",
            "Ah, love the world\n",
            "Oh, hate the world\n",
            "So let me go\n",
            "[Refrain]\n",
            "\n",
            "You know how long it took you to make this song\n",
            "[Chorus]\n",
            "Ah, love\n",
            "\n",
            "\n",
            "2: You have seen his shadow grow on the face of the world\n",
            "\n",
            "(Joel K. Kuehn & George R. Martin)\n",
            "Honeymoon Lane in the Wind\n",
            "[Outro]\n",
            "Joan's Band Band (Fool Will Ride Lyrics[Verse 1]Baby]\n",
            "All I know is that there's nobody like you who's gonna rob me of everything\n",
            "\n",
            "(JoJoel K.\n",
            "And I don't want anybody to rob me)\n",
            "[Verse 2]Come on in my time\n",
            "[Outro]\n",
            "Joan's Band (Fool Will Ride Lyrics[Chorus]\n",
            "It's been a while since you've been around, and I don't know where I've been\n",
            "(Joan John Lennon)\n",
            "[Outro]\n",
            "Joan's Band (Fool Will Ride Lyrics[Chorus]\n",
            "It's been a long, long, long time since I've been around, and I don't know where I've been\n",
            "(Joan Lennon)\n",
            "[Outro]\n",
            "Joan's Band (Fool Will Ride Lyrics[Outro]\n",
            "Joan John Lennon and Joa McCartney)\n",
            "[Outro]\n",
            "Judeo-Christian/Fart-Fool John Lennon and John Lennon (Chorus)\n",
            "It's been a long, long time since I've been around, and I don't know where I've been\n",
            "(Joan Lennon)\n",
            "\n",
            "\n"
          ]
        }
      ]
    },
    {
      "cell_type": "code",
      "source": [],
      "metadata": {
        "id": "YEg2d2xlqE2v"
      },
      "execution_count": null,
      "outputs": []
    }
  ]
}